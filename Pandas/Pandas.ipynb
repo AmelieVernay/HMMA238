{
 "cells": [
  {
   "cell_type": "markdown",
   "metadata": {},
   "source": [
    "# First steps in  *pandas*\n",
    "\n",
    "***\n",
    "> __Auteur__: Joseph Salmon\n",
    "> <joseph.salmon@umontpellier.fr> , adapted from the notebook by Joris Van den Bossche:\n",
    "https://github.com/jorisvandenbossche/pandas-tutorial/blob/master/01-pandas_introduction.ipynb"
   ]
  },
  {
   "cell_type": "markdown",
   "metadata": {},
   "source": [
    "<a id=\"intro\"> </a>\n",
    "\n",
    "# Introduction et présentation"
   ]
  },
  {
   "cell_type": "code",
   "execution_count": null,
   "metadata": {},
   "outputs": [],
   "source": [
    "%matplotlib notebook\n",
    "import numpy as np\n",
    "import pandas as pd\n",
    "import matplotlib.pyplot as plt\n",
    "import seaborn as sns\n",
    "from ipywidgets import interact  # widget manipulation\n",
    "\n",
    "pd.options.display.max_rows = 8"
   ]
  },
  {
   "cell_type": "markdown",
   "metadata": {},
   "source": [
    "## Cas 1: Survie sur le Titanic "
   ]
  },
  {
   "cell_type": "code",
   "execution_count": null,
   "metadata": {},
   "outputs": [],
   "source": [
    "from download import download\n",
    "\n",
    "url = \"http://josephsalmon.eu/enseignement/datasets/titanic.csv\"\n",
    "path_target = \"./titanic.csv\"\n",
    "download(url, path_target, replace=False)\n",
    "\n",
    "# df: data frame\n",
    "df_titanic_raw = pd.read_csv(\"titanic.csv\")"
   ]
  },
  {
   "cell_type": "code",
   "execution_count": null,
   "metadata": {},
   "outputs": [],
   "source": [
    "df_titanic_raw.tail(n=3)"
   ]
  },
  {
   "cell_type": "markdown",
   "metadata": {},
   "source": [
    "## Valeurs manquantes:\n",
    "Pour faciliter la suite on ne garde que les observations qui sont complètes, on enlève donc ici les valeurs manquantes"
   ]
  },
  {
   "cell_type": "code",
   "execution_count": null,
   "metadata": {},
   "outputs": [],
   "source": [
    "df_titanic = df_titanic_raw.dropna()\n",
    "df_titanic.tail(3)"
   ]
  },
  {
   "cell_type": "markdown",
   "metadata": {},
   "source": [
    "# Description succinte des variables:\n",
    "- Survival - Survie (0 = Non; 1 = Oui).\n",
    "- Pclass - Passenger Class / Classe du passager (1 = 1ere; 2 = 2nde; 3 = 3ème)\n",
    "- Name - Nom\n",
    "- Sex - Sexe\n",
    "- Age - Age\n",
    "- Sibsp - Nombre de frères / soeurs / maris / épouses à bord\n",
    "- Parch - Nombre de parents ascendants / enfants à bord\n",
    "- Ticket - Numéro du ticket\n",
    "- Fare - Prix du ticket (British pound)\n",
    "- Cabin - Cabine\n",
    "- Embarked - Port d'embarquation (C = Cherbourg; Q = Queenstown; S = Southampton)"
   ]
  },
  {
   "cell_type": "markdown",
   "metadata": {},
   "source": [
    "# Descriptif rapide:\n",
    "- count - effectif\n",
    "- mean - moyenne\n",
    "- std (**st**andard **d**eviation - écart-type)\n"
   ]
  },
  {
   "cell_type": "code",
   "execution_count": null,
   "metadata": {},
   "outputs": [],
   "source": [
    "df_titanic.describe()"
   ]
  },
  {
   "cell_type": "markdown",
   "metadata": {},
   "source": [
    "## Compréhension visualisation de la base de données:"
   ]
  },
  {
   "cell_type": "markdown",
   "metadata": {},
   "source": [
    "**Quelle est la répartition par âge des passagers?**"
   ]
  },
  {
   "cell_type": "code",
   "execution_count": null,
   "metadata": {},
   "outputs": [],
   "source": [
    "plt.figure(figsize=(5, 5))\n",
    "plt.hist(df_titanic['Age'], density=False, bins=50)\n",
    "plt.xlabel('Age')\n",
    "plt.ylabel('Proportion')\n",
    "plt.title(\"Histogramme de l'âge des passagers\")"
   ]
  },
  {
   "cell_type": "code",
   "execution_count": null,
   "metadata": {},
   "outputs": [],
   "source": [
    "plt.figure(figsize=(5, 5))\n",
    "# KDE: kernel density estimate\n",
    "ax = sns.kdeplot(df_titanic['Age'], shade=True, cut=0, bw=5) # sns -> Seaborn package\n",
    "plt.xlabel('Proportion')\n",
    "plt.ylabel('Age')\n",
    "ax.legend().set_visible(False)\n",
    "plt.title(\"Estimation de la densité de l'âge des passagers\")\n",
    "plt.tight_layout()"
   ]
  },
  {
   "cell_type": "markdown",
   "metadata": {},
   "source": [
    "## Widget\n",
    "Interactive interaction with codes and output is nowdays easier and easier (see also Shiny app in R-software).\n",
    "In `jupyter notebook` one can use for that `widgets` and the `interact` package. We are going to visualise that on the simple KDE and histograms examples."
   ]
  },
  {
   "cell_type": "code",
   "execution_count": null,
   "metadata": {},
   "outputs": [],
   "source": [
    "def hist_explore(n_bins=24):\n",
    "    fig, ax = plt.subplots(1, 1, figsize=(5, 5))\n",
    "    ax.hist(df_titanic['Age'], density=True,\n",
    "            bins=n_bins, alpha=0.25)  # standardization\n",
    "    plt.xlabel('Age')\n",
    "    plt.ylabel('Density level')\n",
    "    plt.title(\"Histogram for passengers' age\")\n",
    "    plt.tight_layout()\n",
    "    plt.show()"
   ]
  },
  {
   "cell_type": "code",
   "execution_count": null,
   "metadata": {},
   "outputs": [],
   "source": [
    "interact(hist_explore, n_bins=(1, 30, 1))"
   ]
  },
  {
   "cell_type": "code",
   "execution_count": null,
   "metadata": {},
   "outputs": [],
   "source": [
    "def kde_explore(bw=5):\n",
    "    fig, ax = plt.subplots(1, 1, figsize=(5, 5))\n",
    "    ax = sns.kdeplot(df_titanic['Age'], bw=bw, shade=True, cut=0)\n",
    "    plt.xlabel('Age (in year)')\n",
    "    plt.ylabel('Density level')\n",
    "    plt.title(\"Age of the passengers\")\n",
    "    plt.tight_layout()\n",
    "    plt.show()"
   ]
  },
  {
   "cell_type": "code",
   "execution_count": null,
   "metadata": {},
   "outputs": [],
   "source": [
    "interact(kde_explore, bw=(0.001, 10, 0.1))"
   ]
  },
  {
   "cell_type": "markdown",
   "metadata": {},
   "source": [
    "## `Groupby` function\n",
    "How is the survival rate change w.r.t. to sex?"
   ]
  },
  {
   "cell_type": "code",
   "execution_count": null,
   "metadata": {},
   "outputs": [],
   "source": [
    "df_titanic_raw.groupby('Sex')[['Survived']].aggregate(lambda x: x.mean())"
   ]
  },
  {
   "cell_type": "markdown",
   "metadata": {},
   "source": [
    "How is the survival rate change w.r.t. the class?"
   ]
  },
  {
   "cell_type": "code",
   "execution_count": null,
   "metadata": {},
   "outputs": [],
   "source": [
    "df_titanic.columns"
   ]
  },
  {
   "cell_type": "code",
   "execution_count": null,
   "metadata": {},
   "outputs": [],
   "source": [
    "plt.figure()\n",
    "df_titanic.groupby('Pclass')['Survived'].aggregate(lambda x: x.mean()).plot(kind='bar')"
   ]
  },
  {
   "cell_type": "markdown",
   "metadata": {},
   "source": [
    "### <font color='red'> EXERCISE : median by class </font>\n",
    "Add correct ylabel to the previous figure."
   ]
  },
  {
   "cell_type": "code",
   "execution_count": null,
   "metadata": {},
   "outputs": [],
   "source": [
    "# XXX to do"
   ]
  },
  {
   "cell_type": "markdown",
   "metadata": {},
   "source": [
    "### <font color='red'> EXERCISE : median by class </font>\n",
    "Perform a similar analysis with the median for the price per class in pounds."
   ]
  },
  {
   "cell_type": "markdown",
   "metadata": {},
   "source": [
    "## Catplot, or a visual groupby"
   ]
  },
  {
   "cell_type": "code",
   "execution_count": null,
   "metadata": {},
   "outputs": [],
   "source": [
    "sns.catplot(x=df_titanic_raw.columns[2], y=\"Age\",\n",
    "            hue=\"Sex\", data=df_titanic_raw, kind=\"violin\", legend=False)\n",
    "plt.title(\"Taux de survie par classe\")\n",
    "plt.tight_layout()"
   ]
  },
  {
   "cell_type": "code",
   "execution_count": null,
   "metadata": {},
   "outputs": [],
   "source": []
  },
  {
   "cell_type": "code",
   "execution_count": null,
   "metadata": {},
   "outputs": [],
   "source": []
  },
  {
   "cell_type": "code",
   "execution_count": null,
   "metadata": {},
   "outputs": [],
   "source": []
  },
  {
   "cell_type": "markdown",
   "metadata": {},
   "source": [
    "# Pandas: anlayser des données avec Python "
   ]
  },
  {
   "cell_type": "markdown",
   "metadata": {},
   "source": [
    "Pour les travaux intensifs en données en Python, la bibliothèque Pandas est devenue essentielle.\n",
    "\n",
    "Qu'est ce que pandas? C'est un environnement qui gère des Data Frame:\n",
    "\n",
    "- Pandas peut gérer *Data Frame* des tableaux *numpy* avec des étiquettes pour les lignes et les colonnes, et permet une prise en charge des types de données hétérogènes.\n",
    "- Pandas peut aussi être considéré comme le data.frame de R en Python.\n",
    "- Puissant pour travailler avec les données manquantes, travailler avec des données chronologiques, pour lire et écrire vos données, pour remodeler, regrouper, fusionner vos données, ...\n",
    "\n",
    "Documentation: http://pandas.pydata.org/pandas-docs/stable/"
   ]
  },
  {
   "cell_type": "markdown",
   "metadata": {},
   "source": [
    "Quand a-t-on besoin de Pandas?\n",
    "Quand on travaille avec des tableaux ou des structures de données(commme des dataframe R, SQL table, Excel, Spreadsheet, ...):\n",
    "\n",
    "- Importer des données\n",
    "- Nettoyer des données \"sales\" \n",
    "- Explorer et comprendre des données\n",
    "- Traiter et preparer les données pour faire une analyse \n",
    "- Analyser les données (avec en plus scikit-learn, statsmodels,...)\n",
    "<br/>\n",
    "<br/>\n",
    "\n",
    "**ATTENTION / LIMITES:**\n",
    "\n",
    "Pandas est bon pour travailler avec des données hétérogènes et des tableaux 1D/2D, mais tous les types de données ne correspondent pas à ces structures!\n",
    "\n",
    "Contre-exemples:\n",
    "- Quand on travaille avec des données de type **array** (e.g. images):  utiliser *numpy*\n",
    "- Pour des données multidimensionnelles étiquetées  (e.g. données de climat): voir [xarray](http://xarray.pydata.org/en/stable/)"
   ]
  },
  {
   "cell_type": "markdown",
   "metadata": {},
   "source": [
    "# Les structures de données en pandas : DataFrame et Series"
   ]
  },
  {
   "cell_type": "markdown",
   "metadata": {},
   "source": [
    "Un DataFrame est une structure de données tabulaire (un objet multidimensionnel pouvant contenir des données étiquetées) composé de lignes et de colonnes, semblable à une feuille de calcul, une table de base de données ou à l'objet data.frame de R. Vous pouvez le considérer comme plusieurs objets Series partageant le même index."
   ]
  },
  {
   "cell_type": "code",
   "execution_count": null,
   "metadata": {},
   "outputs": [],
   "source": [
    "df_titanic"
   ]
  },
  {
   "cell_type": "code",
   "execution_count": null,
   "metadata": {},
   "outputs": [],
   "source": [
    "df_titanic.index"
   ]
  },
  {
   "cell_type": "code",
   "execution_count": null,
   "metadata": {},
   "outputs": [],
   "source": [
    "df_titanic.columns"
   ]
  },
  {
   "cell_type": "code",
   "execution_count": null,
   "metadata": {},
   "outputs": [],
   "source": [
    "df_titanic.dtypes"
   ]
  },
  {
   "cell_type": "code",
   "execution_count": null,
   "metadata": {},
   "outputs": [],
   "source": [
    "df_titanic.info()"
   ]
  },
  {
   "cell_type": "code",
   "execution_count": null,
   "metadata": {},
   "outputs": [],
   "source": [
    "# Check that cabin is mostly missing, also the age\n",
    "df_titanic_raw.info()"
   ]
  },
  {
   "cell_type": "code",
   "execution_count": null,
   "metadata": {},
   "outputs": [],
   "source": [
    "array_titanic = df_titanic.values  # c'est la liste de valeur /array associé\n",
    "array_titanic"
   ]
  },
  {
   "cell_type": "markdown",
   "metadata": {},
   "source": [
    "### <font color='red'> EXERCISE : dropna</font>\n",
    "Perform the following operation: remove the columns Cabin, and then remove the rows with missing age.\n",
    "\n",
    "https://pandas.pydata.org/pandas-docs/stable/reference/api/pandas.DataFrame.dropna.html\n"
   ]
  },
  {
   "cell_type": "code",
   "execution_count": null,
   "metadata": {},
   "outputs": [],
   "source": []
  },
  {
   "cell_type": "markdown",
   "metadata": {},
   "source": [
    "# Données uni-dimensionel : Series (une colonne d'un DataFrame)"
   ]
  },
  {
   "cell_type": "markdown",
   "metadata": {},
   "source": [
    "Une Series est un support de base pour les données étiquetées unidimensionnelles."
   ]
  },
  {
   "cell_type": "code",
   "execution_count": null,
   "metadata": {},
   "outputs": [],
   "source": [
    "fare = df_titanic['Fare']"
   ]
  },
  {
   "cell_type": "code",
   "execution_count": null,
   "metadata": {},
   "outputs": [],
   "source": [
    "fare"
   ]
  },
  {
   "cell_type": "markdown",
   "metadata": {},
   "source": [
    "## Attributs de l'objet *Series*: indices et valeurs"
   ]
  },
  {
   "cell_type": "code",
   "execution_count": null,
   "metadata": {},
   "outputs": [],
   "source": [
    "fare.values[:10]"
   ]
  },
  {
   "cell_type": "code",
   "execution_count": null,
   "metadata": {},
   "outputs": [],
   "source": [
    "fare[6] # existe mais fare[0] provoque une erreur, car on l'a enlevé du dataFrame, comme valeur manquante.\n"
   ]
  },
  {
   "cell_type": "markdown",
   "metadata": {},
   "source": [
    "Contrairement au tableau *numpy*, cet index peut être autre chose qu'un entier:"
   ]
  },
  {
   "cell_type": "code",
   "execution_count": null,
   "metadata": {},
   "outputs": [],
   "source": [
    "df_titanic = df_titanic.set_index('Name')\n",
    "df_titanic"
   ]
  },
  {
   "cell_type": "code",
   "execution_count": null,
   "metadata": {},
   "outputs": [],
   "source": [
    "age = df_titanic['Age']\n",
    "age['Behr, Mr. Karl Howell']"
   ]
  },
  {
   "cell_type": "code",
   "execution_count": null,
   "metadata": {},
   "outputs": [],
   "source": [
    "age.mean()"
   ]
  },
  {
   "cell_type": "code",
   "execution_count": null,
   "metadata": {},
   "outputs": [],
   "source": [
    "df_titanic[age <2]"
   ]
  },
  {
   "cell_type": "code",
   "execution_count": null,
   "metadata": {},
   "outputs": [],
   "source": [
    "df_titanic_raw['Embarked'].value_counts()"
   ]
  },
  {
   "cell_type": "code",
   "execution_count": null,
   "metadata": {},
   "outputs": [],
   "source": [
    "pd.options.display.max_rows = 70\n",
    "df_titanic[df_titanic['Embarked']=='C']  # Les passagers montés à Cherbourg n'ont pas des noms gaulois..."
   ]
  },
  {
   "cell_type": "code",
   "execution_count": null,
   "metadata": {},
   "outputs": [],
   "source": [
    "pd.options.display.max_rows = 8"
   ]
  },
  {
   "cell_type": "code",
   "execution_count": null,
   "metadata": {},
   "outputs": [],
   "source": [
    "df_titanic_raw['Survived'].sum() / df_titanic_raw['Survived'].count()"
   ]
  },
  {
   "cell_type": "code",
   "execution_count": null,
   "metadata": {},
   "outputs": [],
   "source": [
    "df_titanic['Survived'].mean()"
   ]
  },
  {
   "cell_type": "markdown",
   "metadata": {},
   "source": [
    "** Quelle était la proportion de femmes sur le bateau? **"
   ]
  },
  {
   "cell_type": "code",
   "execution_count": null,
   "metadata": {},
   "outputs": [],
   "source": [
    "df_titanic_raw.groupby(['Sex']).size() / df_titanic_raw['Sex'].count()"
   ]
  },
  {
   "cell_type": "code",
   "execution_count": null,
   "metadata": {},
   "outputs": [],
   "source": [
    "df_titanic_raw.groupby(['Sex']).mean()"
   ]
  },
  {
   "cell_type": "markdown",
   "metadata": {},
   "source": [
    "# Data import et export\n",
    "\n",
    "Pandas supports nativement une large gamme de formats d'entrée / sortie:\n",
    "- CSV, text\n",
    "- SQL database\n",
    "- Excel\n",
    "- HDF5\n",
    "- json\n",
    "- html\n",
    "- pickle\n",
    "- sas, stata\n",
    "- ..."
   ]
  },
  {
   "cell_type": "code",
   "execution_count": null,
   "metadata": {},
   "outputs": [],
   "source": [
    "# pd.read_csv?"
   ]
  },
  {
   "cell_type": "markdown",
   "metadata": {},
   "source": [
    "# Exploration"
   ]
  },
  {
   "cell_type": "code",
   "execution_count": null,
   "metadata": {},
   "outputs": [],
   "source": [
    "df_titanic_raw.tail()"
   ]
  },
  {
   "cell_type": "code",
   "execution_count": null,
   "metadata": {},
   "outputs": [],
   "source": [
    "df_titanic_raw.head()"
   ]
  },
  {
   "cell_type": "code",
   "execution_count": null,
   "metadata": {},
   "outputs": [],
   "source": [
    "sns.set_palette(\"colorblind\")\n",
    "sns.catplot(x='Pclass',y='Age',hue='Survived',data=df_titanic_raw, kind=\"violin\")"
   ]
  },
  {
   "cell_type": "code",
   "execution_count": null,
   "metadata": {},
   "outputs": [],
   "source": [
    "df_titanic_raw.columns"
   ]
  },
  {
   "cell_type": "markdown",
   "metadata": {},
   "source": [
    "# iloc"
   ]
  },
  {
   "cell_type": "code",
   "execution_count": null,
   "metadata": {},
   "outputs": [],
   "source": [
    "df_titanic.iloc[0:2,1:8]"
   ]
  },
  {
   "cell_type": "markdown",
   "metadata": {},
   "source": [
    "# loc"
   ]
  },
  {
   "cell_type": "code",
   "execution_count": null,
   "metadata": {},
   "outputs": [],
   "source": [
    "df_titanic.loc['Bonnell, Miss. Elizabeth', 'Fare']"
   ]
  },
  {
   "cell_type": "code",
   "execution_count": null,
   "metadata": {},
   "outputs": [],
   "source": [
    "df_titanic.loc['Bonnell, Miss. Elizabeth']"
   ]
  },
  {
   "cell_type": "code",
   "execution_count": null,
   "metadata": {},
   "outputs": [],
   "source": [
    "df_titanic.loc['Bonnell, Miss. Elizabeth','Survived']= 100"
   ]
  },
  {
   "cell_type": "code",
   "execution_count": null,
   "metadata": {},
   "outputs": [],
   "source": [
    "df_titanic.loc['Bonnell, Miss. Elizabeth']"
   ]
  },
  {
   "cell_type": "code",
   "execution_count": null,
   "metadata": {},
   "outputs": [],
   "source": [
    "df_titanic.loc['Bonnell, Miss. Elizabeth','Survived']= 1  # On remet la valeur comme avant "
   ]
  },
  {
   "cell_type": "markdown",
   "metadata": {},
   "source": [
    "# group-by:"
   ]
  },
  {
   "cell_type": "code",
   "execution_count": null,
   "metadata": {},
   "outputs": [],
   "source": [
    "df_titanic.groupby('Sex').mean()"
   ]
  },
  {
   "cell_type": "code",
   "execution_count": null,
   "metadata": {},
   "outputs": [],
   "source": [
    "df_titanic_raw.groupby('Sex').mean()['Pclass']  # attention ici on prend toutes les données, meme les manquantes..."
   ]
  },
  {
   "cell_type": "code",
   "execution_count": null,
   "metadata": {},
   "outputs": [],
   "source": [
    "df_titanic['AgeClass'] = pd.cut(df_titanic['Age'], bins=np.arange(0,90,10)) # créer des classes / découpes."
   ]
  },
  {
   "cell_type": "code",
   "execution_count": null,
   "metadata": {},
   "outputs": [],
   "source": [
    "df_titanic['AgeClass']"
   ]
  },
  {
   "cell_type": "code",
   "execution_count": null,
   "metadata": {},
   "outputs": [],
   "source": []
  },
  {
   "cell_type": "markdown",
   "metadata": {},
   "source": []
  },
  {
   "cell_type": "code",
   "execution_count": null,
   "metadata": {},
   "outputs": [],
   "source": []
  },
  {
   "cell_type": "code",
   "execution_count": null,
   "metadata": {},
   "outputs": [],
   "source": []
  },
  {
   "cell_type": "code",
   "execution_count": null,
   "metadata": {},
   "outputs": [],
   "source": []
  },
  {
   "cell_type": "markdown",
   "metadata": {},
   "source": [
    "# Cas 2:  air quality in Paris.\n",
    "(Source: Airparif)\n"
   ]
  },
  {
   "cell_type": "code",
   "execution_count": null,
   "metadata": {},
   "outputs": [],
   "source": [
    "url = \"http://josephsalmon.eu/enseignement/datasets/20080421_20160927-PA13_auto.csv\"\n",
    "path_target = \"./20080421_20160927-PA13_auto.csv\"\n",
    "download(url, path_target, replace=False)"
   ]
  },
  {
   "cell_type": "code",
   "execution_count": null,
   "metadata": {},
   "outputs": [],
   "source": [
    "!head -20 ./20080421_20160927-PA13_auto.csv"
   ]
  },
  {
   "cell_type": "markdown",
   "metadata": {},
   "source": [
    "# Traitement des données temporelles et dates: \n",
    "https://jakevdp.github.io/PythonDataScienceHandbook/03.11-working-with-time-series.html"
   ]
  },
  {
   "cell_type": "code",
   "execution_count": null,
   "metadata": {},
   "outputs": [],
   "source": [
    "polution_df = pd.read_csv('20080421_20160927-PA13_auto.csv', sep=';',\n",
    "                          comment='#',\n",
    "                          na_values=\"n/d\",\n",
    "                          converters={'heure': str})"
   ]
  },
  {
   "cell_type": "code",
   "execution_count": null,
   "metadata": {},
   "outputs": [],
   "source": [
    "polution_df.head(12)"
   ]
  },
  {
   "cell_type": "markdown",
   "metadata": {},
   "source": [
    "## Preprocess the data"
   ]
  },
  {
   "cell_type": "markdown",
   "metadata": {},
   "source": [
    "### <font color='red'> EXERCISE : handling missing values </font>\n",
    "\n",
    "What is the meaning of \"na_values=\"n/d\" above?\n",
    "\n",
    "Note that an alternative can be obtained with the command `polution_df.replace('n/d', np.nan, inplace=True)`\n"
   ]
  },
  {
   "cell_type": "markdown",
   "metadata": {},
   "source": []
  },
  {
   "cell_type": "code",
   "execution_count": null,
   "metadata": {},
   "outputs": [],
   "source": [
    "# check types\n",
    "polution_df.dtypes"
   ]
  },
  {
   "cell_type": "markdown",
   "metadata": {},
   "source": [
    "For more info on the object nature (inherited from numpy), see https://stackoverflow.com/questions/21018654/strings-in-a-dataframe-but-dtype-is-object"
   ]
  },
  {
   "cell_type": "markdown",
   "metadata": {},
   "source": [
    "### First issue non conventional hours"
   ]
  },
  {
   "cell_type": "code",
   "execution_count": null,
   "metadata": {},
   "outputs": [],
   "source": [
    "# start by changing to integer type (e.g. int8)\n",
    "polution_df['heure'] = polution_df['heure'].astype(np.int8)\n",
    "\n",
    "# no data is from 1 to 24... not conventional so let's make it from 0 to 23\n",
    "polution_df['heure'] = polution_df['heure'] - 1\n",
    "\n",
    "# and back to strings:\n",
    "polution_df['heure'] = polution_df['heure'].astype('str')"
   ]
  },
  {
   "cell_type": "markdown",
   "metadata": {},
   "source": [
    "### Time processing\n"
   ]
  },
  {
   "cell_type": "code",
   "execution_count": null,
   "metadata": {},
   "outputs": [],
   "source": [
    "# https://www.tutorialspoint.com/python/time_strptime.htm\n",
    "\n",
    "time_improved = pd.to_datetime(polution_df['date'] +\n",
    "                               ' ' + polution_df['heure'] + ':00',\n",
    "                               format='%d/%m/%Y %H:%M')\n",
    "\n",
    "# Where d = day, m=month, Y=year, H=hour, M=minutes"
   ]
  },
  {
   "cell_type": "code",
   "execution_count": null,
   "metadata": {},
   "outputs": [],
   "source": [
    "polution_df['date'] + ' ' + polution_df['heure'] + ':00'"
   ]
  },
  {
   "cell_type": "code",
   "execution_count": null,
   "metadata": {},
   "outputs": [],
   "source": [
    "time_improved"
   ]
  },
  {
   "cell_type": "code",
   "execution_count": null,
   "metadata": {},
   "outputs": [],
   "source": [
    "# create correct timing format in the dataframe\n",
    "polution_df['DateTime'] = time_improved\n",
    "\n",
    "# remove useles columns\n",
    "del polution_df['heure']\n",
    "del polution_df['date']"
   ]
  },
  {
   "cell_type": "code",
   "execution_count": null,
   "metadata": {},
   "outputs": [],
   "source": [
    "# visualize the data set\n",
    "polution_ts = polution_df.set_index(['DateTime'])\n",
    "polution_ts = polution_ts.sort_index()\n",
    "polution_ts.head(12)"
   ]
  },
  {
   "cell_type": "code",
   "execution_count": null,
   "metadata": {},
   "outputs": [],
   "source": [
    "polution_ts.describe()"
   ]
  },
  {
   "cell_type": "code",
   "execution_count": null,
   "metadata": {},
   "outputs": [],
   "source": [
    "fig, axes = plt.subplots(2, 1, figsize=(6, 6), sharex=True)\n",
    "\n",
    "axes[0].plot(polution_ts['O3'].resample('D').mean())\n",
    "axes[0].set_title(\"Ozone polution: dayly average in Paris\")\n",
    "axes[0].set_ylabel(\"Concentration (µg/m³)\")\n",
    "\n",
    "axes[1].plot(polution_ts['NO2'].resample('D').mean())\n",
    "axes[1].set_title(\"Nitrogen polution: dayly average in Paris\")\n",
    "axes[1].set_ylabel(\"Concentration (µg/m³)\")\n",
    "\n",
    "plt.show()"
   ]
  },
  {
   "cell_type": "markdown",
   "metadata": {},
   "source": [
    "### <font color='red'> EXERCISE : worst of the day  </font>\n",
    "Provide the same plots as before, but with dayly best and worst on the same figures (use different colors)"
   ]
  },
  {
   "cell_type": "code",
   "execution_count": null,
   "metadata": {},
   "outputs": [],
   "source": []
  },
  {
   "cell_type": "markdown",
   "metadata": {},
   "source": [
    "### Is the polution getting better along the year?"
   ]
  },
  {
   "cell_type": "code",
   "execution_count": null,
   "metadata": {},
   "outputs": [],
   "source": [
    "ax = polution_ts['2008':].resample('A').mean().plot(figsize=(4,4))  # échantillone par année (A pour Annual)\n",
    "plt.ylim(0,50)\n",
    "plt.title(\"Evolution de la pollution: \\n moyenne annuelle sur Paris\")\n",
    "plt.ylabel(\"Concentration (µg/m³)\")\n",
    "plt.xlabel(\"Années\")"
   ]
  },
  {
   "cell_type": "code",
   "execution_count": null,
   "metadata": {},
   "outputs": [],
   "source": [
    "# Chargement des couleurs\n",
    "sns.set_palette(\"GnBu_d\", n_colors=7)\n",
    "polution_ts['weekday'] = polution_ts.index.weekday  # Monday=0, Sunday=6\n",
    "\n",
    "# polution_ts['weekend'] = polution_ts['weekday'].isin([5, 6])\n",
    "\n",
    "days = ['Lundi', 'Mardi', 'Mercredi',\n",
    "        'Jeudi', 'Vendredi', 'Samedi', 'Dimanche']\n",
    "\n",
    "polution_week_no2 = polution_ts.groupby(['weekday', polution_ts.index.hour])[\n",
    "    'NO2'].mean().unstack(level=0)\n",
    "polution_week_03 = polution_ts.groupby(['weekday', polution_ts.index.hour])[\n",
    "    'O3'].mean().unstack(level=0)"
   ]
  },
  {
   "cell_type": "code",
   "execution_count": null,
   "metadata": {},
   "outputs": [],
   "source": []
  },
  {
   "cell_type": "code",
   "execution_count": null,
   "metadata": {},
   "outputs": [],
   "source": [
    "fig, axes = plt.subplots(2, 1, figsize=(7, 7), sharex=True)\n",
    "\n",
    "polution_week_no2.plot(ax=axes[0])\n",
    "axes[0].set_ylabel(\"Concentration (µg/m³)\")\n",
    "axes[0].set_xlabel(\"Heure de la journée\")\n",
    "axes[0].set_title(\n",
    "    \"Profil journalier de la pollution au NO2: effet du weekend?\")\n",
    "axes[0].set_xticks(np.arange(0, 24))\n",
    "axes[0].set_xticklabels(np.arange(0, 24), rotation=45)\n",
    "axes[0].set_ylim(0, 60)\n",
    "\n",
    "polution_week_03.plot(ax=axes[1])\n",
    "axes[1].set_ylabel(\"Concentration (µg/m³)\")\n",
    "axes[1].set_xlabel(\"Heure de la journée\")\n",
    "axes[1].set_title(\"Profil journalier de la pollution au O3: effet du weekend?\")\n",
    "axes[1].set_xticks(np.arange(0, 24))\n",
    "axes[1].set_xticklabels(np.arange(0, 24), rotation=45)\n",
    "axes[1].set_ylim(0, 70)\n",
    "axes[0].legend().set_visible(False)\n",
    "# ax.legend()\n",
    "axes[1].legend(labels=days, loc='lower left', bbox_to_anchor=(1, 0.1))\n",
    "\n",
    "plt.tight_layout()"
   ]
  },
  {
   "cell_type": "code",
   "execution_count": null,
   "metadata": {},
   "outputs": [],
   "source": [
    "# XXX TODO quid des saisons?"
   ]
  },
  {
   "cell_type": "code",
   "execution_count": null,
   "metadata": {},
   "outputs": [],
   "source": [
    "import calendar\n",
    "polution_ts['month'] = polution_ts.index.month  # Janvier=0, .... Decembre=12\n",
    "polution_ts['month'] = polution_ts['month'].apply(lambda x: calendar.month_abbr[x])\n",
    "polution_ts.head()"
   ]
  },
  {
   "cell_type": "code",
   "execution_count": null,
   "metadata": {},
   "outputs": [],
   "source": [
    "days = []\n",
    "\n",
    "polution_month_no2 = polution_ts.groupby(['month', polution_ts.index.hour])[\n",
    "    'NO2'].mean().unstack(level=0)\n",
    "polution_month_03 = polution_ts.groupby(['month', polution_ts.index.hour])[\n",
    "    'O3'].mean().unstack(level=0)"
   ]
  },
  {
   "cell_type": "code",
   "execution_count": null,
   "metadata": {},
   "outputs": [],
   "source": [
    "sns.set_palette(\"GnBu_d\", n_colors=12)\n",
    "\n",
    "fig, axes = plt.subplots(2, 1, figsize=(7, 7), sharex=True)\n",
    "\n",
    "polution_month_no2.plot(ax=axes[0])\n",
    "axes[0].set_ylabel(\"Concentration (µg/m³)\")\n",
    "axes[0].set_xlabel(\"Heure de la journée\")\n",
    "axes[0].set_title(\n",
    "    \"Profil journalier de la pollution au NO2: effet du weekend?\")\n",
    "axes[0].set_xticks(np.arange(0, 24))\n",
    "axes[0].set_xticklabels(np.arange(0, 24), rotation=45)\n",
    "axes[0].set_ylim(0, 90)\n",
    "\n",
    "polution_month_03.plot(ax=axes[1])\n",
    "axes[1].set_ylabel(\"Concentration (µg/m³)\")\n",
    "axes[1].set_xlabel(\"Heure de la journée\")\n",
    "axes[1].set_title(\"Profil journalier de la pollution au O3: effet du weekend?\")\n",
    "axes[1].set_xticks(np.arange(0, 24))\n",
    "axes[1].set_xticklabels(np.arange(0, 24), rotation=45)\n",
    "axes[1].set_ylim(0, 90)\n",
    "axes[0].legend().set_visible(False)\n",
    "# ax.legend()\n",
    "axes[1].legend(labels=calendar.month_name[1:], loc='lower left', bbox_to_anchor=(1, 0.1))\n",
    "\n",
    "plt.tight_layout()"
   ]
  },
  {
   "cell_type": "markdown",
   "metadata": {},
   "source": [
    "# Your turn: explore the bike acceident dataset\n",
    "\n",
    "https://www.data.gouv.fr/fr/datasets/accidents-de-velo-en-france/\n",
    "\n",
    "Possible visualisation\n",
    "https://koumoul.com/en/datasets/accidents-velos"
   ]
  },
  {
   "cell_type": "code",
   "execution_count": null,
   "metadata": {},
   "outputs": [],
   "source": [
    "url = \"https://www.data.gouv.fr/fr/datasets/r/ab84353b-498b-4ef5-9a02-a6403f2ead96\"\n",
    "path_target = \"./bicycle_db.csv\"\n",
    "download(url, path_target, replace=False)"
   ]
  },
  {
   "cell_type": "code",
   "execution_count": null,
   "metadata": {},
   "outputs": [],
   "source": [
    "# df: data frame\n",
    "df_bikes = pd.read_csv(\"bicycle_db.csv\",na_values=\"\", converters={'data': str, 'heure': str})"
   ]
  },
  {
   "cell_type": "code",
   "execution_count": null,
   "metadata": {},
   "outputs": [],
   "source": [
    "!head -5 ./bicycle_db.csv"
   ]
  },
  {
   "cell_type": "code",
   "execution_count": null,
   "metadata": {},
   "outputs": [],
   "source": [
    "df_bikes.head()"
   ]
  },
  {
   "cell_type": "code",
   "execution_count": null,
   "metadata": {},
   "outputs": [],
   "source": [
    "df_bikes['existence securite'].unique()"
   ]
  },
  {
   "cell_type": "code",
   "execution_count": null,
   "metadata": {},
   "outputs": [],
   "source": [
    "df_bikes['gravite accident'].unique()"
   ]
  },
  {
   "cell_type": "markdown",
   "metadata": {},
   "source": [
    "### Handle missing values in `heure`"
   ]
  },
  {
   "cell_type": "code",
   "execution_count": null,
   "metadata": {},
   "outputs": [],
   "source": [
    "df_bikes['date'].hasnans"
   ]
  },
  {
   "cell_type": "code",
   "execution_count": null,
   "metadata": {},
   "outputs": [],
   "source": [
    "df_bikes['heure'].hasnans"
   ]
  },
  {
   "cell_type": "code",
   "execution_count": null,
   "metadata": {},
   "outputs": [],
   "source": [
    "pd.options.display.max_rows = 20\n",
    "df_bikes.iloc[400:402]"
   ]
  },
  {
   "cell_type": "code",
   "execution_count": null,
   "metadata": {},
   "outputs": [],
   "source": [
    "# remove missing hours cases by np.nan\n",
    "df_bikes['heure']=df_bikes['heure'].replace('', np.nan)\n",
    "df_bikes.iloc[400:402]"
   ]
  },
  {
   "cell_type": "code",
   "execution_count": null,
   "metadata": {},
   "outputs": [],
   "source": [
    "df_bikes.dropna(subset=['heure'], inplace=True)\n",
    "df_bikes.iloc[399:402]"
   ]
  },
  {
   "cell_type": "code",
   "execution_count": null,
   "metadata": {},
   "outputs": [],
   "source": []
  },
  {
   "cell_type": "markdown",
   "metadata": {},
   "source": [
    "### <font color='red'> EXERCISE : Dates?  </font>\n",
    "Can you find the starting day and the ending day of the study automatically? \n",
    "hint sort the data.\n",
    "You can sort the data by time, , say with df.sort('Time') )"
   ]
  },
  {
   "cell_type": "code",
   "execution_count": null,
   "metadata": {},
   "outputs": [],
   "source": [
    "df_bikes['date'] + ' ' + df_bikes['heure'] + ':00'"
   ]
  },
  {
   "cell_type": "code",
   "execution_count": null,
   "metadata": {},
   "outputs": [],
   "source": [
    "# ADAPT OLD to create the df_bikes['Time']\n",
    "\n",
    "# time_improved = pd.to_datetime(df_bikes['date'] +\n",
    "#                                ' ' + df_bikes['heure'] + ':00',\n",
    "#                                format='%d/%m/%Y %H:%M')\n",
    "\n",
    "# Where d = day, m=month, Y=year, H=hour, M=minutes\n",
    "# create correct timing format in the dataframe\n"
   ]
  },
  {
   "cell_type": "code",
   "execution_count": null,
   "metadata": {},
   "outputs": [],
   "source": [
    "df_bikes['Time'] = time_improved\n",
    "\n",
    "# remove useles columns\n",
    "del polution_df['heure']\n",
    "del polution_df['date']"
   ]
  },
  {
   "cell_type": "markdown",
   "metadata": {},
   "source": [
    "### <font color='red'> EXERCISE : Is the helmet saving your life?  </font>\n",
    "Peform an analysis so that you can check the benefit or not of wearing helmet to save your life.  "
   ]
  },
  {
   "cell_type": "markdown",
   "metadata": {},
   "source": [
    "### <font color='red'> EXERCISE : Are men and women dying equally on a bike?  </font>\n",
    "Peform an analysis to check any difference between men and woman survival on a bike?"
   ]
  },
  {
   "cell_type": "code",
   "execution_count": null,
   "metadata": {},
   "outputs": [],
   "source": []
  },
  {
   "cell_type": "markdown",
   "metadata": {},
   "source": [
    "### <font color='red'> EXERCISE : Accident during the week?  </font>\n",
    "Peform an analysis to check when the accidents are occuring during the week."
   ]
  },
  {
   "cell_type": "code",
   "execution_count": null,
   "metadata": {},
   "outputs": [],
   "source": []
  }
 ],
 "metadata": {
  "hide_input": false,
  "kernelspec": {
   "display_name": "Python 3",
   "language": "python",
   "name": "python3"
  },
  "language_info": {
   "codemirror_mode": {
    "name": "ipython",
    "version": 3
   },
   "file_extension": ".py",
   "mimetype": "text/x-python",
   "name": "python",
   "nbconvert_exporter": "python",
   "pygments_lexer": "ipython3",
   "version": "3.7.3"
  },
  "toc": {
   "base_numbering": 1,
   "nav_menu": {},
   "number_sections": false,
   "sideBar": true,
   "skip_h1_title": false,
   "title_cell": "Table of Contents",
   "title_sidebar": "Contents",
   "toc_cell": false,
   "toc_position": {},
   "toc_section_display": true,
   "toc_window_display": true
  }
 },
 "nbformat": 4,
 "nbformat_minor": 2
}
