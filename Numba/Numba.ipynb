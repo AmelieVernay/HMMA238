{
 "cells": [
  {
   "cell_type": "markdown",
   "metadata": {},
   "source": [
    "\n",
    "# Numba: compilation \"Just in Time\" (jit)\n",
    "\n",
    "Numba convertit les fonctions Python en code machine optimisé au moment de l'exécution à l'aide de la bibliothèque de compilateur LLVM standard.\n",
    "Les algorithmes numériques compilés par Numba en Python peuvent alors approcher les vitesses de C ou de FORTRAN, la où les boucles classiques, comme en R et matlab, peuvent être un peu lente.\n",
    "\n",
    "https://numba.pydata.org/ see also https://numba.pydata.org/numba-doc/dev/user/jit.html"
   ]
  },
  {
   "cell_type": "code",
   "execution_count": null,
   "metadata": {},
   "outputs": [],
   "source": [
    "import numpy as np\n",
    "import time\n",
    "from numba import jit"
   ]
  },
  {
   "cell_type": "markdown",
   "metadata": {},
   "source": [
    "# Exemple 1: Méthode de Monte Carlo pour approcher $\\pi$\n",
    "See https://numba.pydata.org/numba-doc/dev/glossary.html#term-nopython-mode for why typing `nopython=True` below."
   ]
  },
  {
   "cell_type": "code",
   "execution_count": null,
   "metadata": {},
   "outputs": [],
   "source": [
    "@jit(nopython=True) \n",
    "def monte_carlo_pi(n_samples=1000):\n",
    "    acc = 0\n",
    "    for sample in range(n_samples):\n",
    "        vec = np.random.rand(2)\n",
    "        if np.linalg.norm(vec) < 1.:\n",
    "            acc += 1\n",
    "    return 4.0 * acc / n_samples "
   ]
  },
  {
   "cell_type": "code",
   "execution_count": null,
   "metadata": {},
   "outputs": [],
   "source": [
    "# DO NOT REPORT THIS... COMPILATION TIME IS INCLUDED IN THE EXECUTION TIME!\n",
    "start = time.time()\n",
    "monte_carlo_pi(n_samples=10000000)\n",
    "end = time.time()\n",
    "print(\"Elapsed (with compilation) = %s\" % (end - start))\n",
    "\n",
    "# NOW THE FUNCTION IS COMPILED, RE-TIME IT EXECUTING FROM CACHE\n",
    "start = time.time()\n",
    "monte_carlo_pi(n_samples=1000)\n",
    "end = time.time()\n",
    "print(\"Elapsed (after compilation) = %s\" % (end - start))"
   ]
  },
  {
   "cell_type": "markdown",
   "metadata": {},
   "source": [
    "# Exemple 2: fonction matricielle (sans utiliser numpy)"
   ]
  },
  {
   "cell_type": "code",
   "execution_count": null,
   "metadata": {},
   "outputs": [],
   "source": [
    "def go_slow(a):  # Function is compiled and runs in machine code\n",
    "    trace = 0\n",
    "    for i in range(a.shape[0]):\n",
    "        trace += a[i, i]\n",
    "    return trace\n",
    "\n",
    "\n",
    "all_n_samples = [1000, 5000, 10000]\n",
    "t0 = []\n",
    "t1 = []\n",
    "t2 = []\n",
    "\n",
    "for n_samples in all_n_samples:\n",
    "    print(n_samples)\n",
    "    x = np.arange(n_samples ** 2).reshape(n_samples, n_samples)\n",
    "\n",
    "    @jit(nopython=True)\n",
    "    def go_fast(a):  # Function is compiled and runs in machine code\n",
    "        trace = 0\n",
    "        for i in range(a.shape[0]):\n",
    "            trace += a[i, i]\n",
    "        return trace\n",
    "    # COMPILATION INCLUSE!\n",
    "    start = time.time()\n",
    "    go_fast(x)\n",
    "    end = time.time()\n",
    "    t0.append(end - start)\n",
    "    print(\"Elapsed (with compilation) = %s\" % (end - start))\n",
    "    # COMPILATION NON INCLUSE, EXECUTER DEPUIS LE CACHE\n",
    "    start = time.time()\n",
    "    go_fast(x)\n",
    "    end = time.time()\n",
    "    t1.append(end - start)\n",
    "    print(\"Elapsed (after compilation) = %s\" % (end - start))\n",
    "    # VANILLA PYTHON\n",
    "    start = time.time()\n",
    "    go_slow(x)\n",
    "    end = time.time()\n",
    "    t2.append(end - start)\n",
    "    print(\"Elapsed (vanilla) = %s\" % (end - start))\n",
    "\n",
    "\n",
    "t0 = np.array(t0)\n",
    "t1 = np.array(t1)\n",
    "t2 = np.array(t2)\n",
    "\n",
    "\n",
    "print(all_n_samples)\n",
    "print(\"Améliorations en pourcentage par rapport au code vanilla\")\n",
    "print((t0 - t2) / t2 * 100)\n",
    "print((t1 - t2) / t2 * 100)"
   ]
  },
  {
   "cell_type": "markdown",
   "metadata": {},
   "source": [
    "# Exemple 3: descente de gradient avec/sans numba."
   ]
  },
  {
   "cell_type": "code",
   "execution_count": null,
   "metadata": {},
   "outputs": [],
   "source": [
    "n_samples = 1000\n",
    "n_features = 500\n",
    "n_iterations = 2000\n",
    "\n",
    "X = np.random.randn(n_samples, n_features)\n",
    "y = np.random.randn(n_samples)\n",
    "y[n_samples // 2:] = 0\n",
    "\n",
    "w = np.zeros(n_features)  # init = 0"
   ]
  },
  {
   "cell_type": "code",
   "execution_count": null,
   "metadata": {},
   "outputs": [],
   "source": [
    "@jit(nopython=True)\n",
    "# Function is compiled and runs in machine code\n",
    "def gradient(X, y, w, step_size=0.01,  max_iter=1000):\n",
    "    \"\"\"Gradient descent with constant step size.\"\"\"\n",
    "    for k in range(max_iter):\n",
    "        w -=  step_size * (X.T.dot(X.dot(w) - y))\n",
    "    return w\n",
    "\n",
    "# DO NOT REPORT THIS... COMPILATION TIME IS INCLUDED IN THE EXECUTION TIME!\n",
    "start = time.time()\n",
    "gradient(X, y, w)\n",
    "end = time.time()\n",
    "print(\"Elapsed (with compilation) = %s\" % (end - start))\n",
    "\n",
    "# NOW THE FUNCTION IS COMPILED, RE-TIME IT EXECUTING FROM CACHE\n",
    "start = time.time()\n",
    "gradient(X, y, w)\n",
    "end = time.time()\n",
    "print(\"Elapsed (after compilation) = %s\" % (end - start))"
   ]
  },
  {
   "cell_type": "markdown",
   "metadata": {},
   "source": [
    "# Exemple 4: Régression logistique"
   ]
  },
  {
   "cell_type": "code",
   "execution_count": null,
   "metadata": {},
   "outputs": [],
   "source": [
    "y = np.random.randint(2, size=n_samples) *2 -1\n",
    "print(y)\n",
    "w = np.zeros(n_features)  # init = 0"
   ]
  },
  {
   "cell_type": "code",
   "execution_count": null,
   "metadata": {},
   "outputs": [],
   "source": [
    "def logistic_regression_no_jit(y, X, w, iterations=1000):\n",
    "    for i in range(iterations):\n",
    "        w -= np.dot(((1.0 / (1.0 + np.exp(-y * np.dot(X, w))) - 1.0) * y), X)\n",
    "    return w"
   ]
  },
  {
   "cell_type": "code",
   "execution_count": null,
   "metadata": {},
   "outputs": [],
   "source": [
    "start = time.time()\n",
    "logistic_regression_no_jit(y, X, w, iterations=n_iterations )\n",
    "end = time.time()\n",
    "print(\"Elapsed (with compilation) = %s\" % (end - start))\n"
   ]
  },
  {
   "cell_type": "code",
   "execution_count": null,
   "metadata": {},
   "outputs": [],
   "source": [
    "@jit(nopython=True)\n",
    "def logistic_regression(y, X, w, iterations=1000):\n",
    "    for i in range(iterations):\n",
    "        w -= np.dot(((1.0 / (1.0 + np.exp(-y * np.dot(X, w))) - 1.0) * y), X)\n",
    "    return w"
   ]
  },
  {
   "cell_type": "code",
   "execution_count": null,
   "metadata": {},
   "outputs": [],
   "source": [
    "# DO NOT REPORT THIS... COMPILATION TIME IS INCLUDED IN THE EXECUTION TIME!\n",
    "start = time.time()\n",
    "logistic_regression(y, X, w, iterations=n_iterations)\n",
    "end = time.time()\n",
    "print(\"Elapsed (with compilation) = %s\" % (end - start))\n",
    "\n",
    "# NOW THE FUNCTION IS COMPILED, RE-TIME IT EXECUTING FROM CACHE\n",
    "start = time.time()\n",
    "logistic_regression(y, X, w, iterations=n_iterations)\n",
    "end = time.time()\n",
    "print(\"Elapsed (after compilation) = %s\" % (end - start))"
   ]
  },
  {
   "cell_type": "code",
   "execution_count": null,
   "metadata": {},
   "outputs": [],
   "source": []
  }
 ],
 "metadata": {
  "hide_input": false,
  "kernelspec": {
   "display_name": "Python 3",
   "language": "python",
   "name": "python3"
  },
  "language_info": {
   "codemirror_mode": {
    "name": "ipython",
    "version": 3
   },
   "file_extension": ".py",
   "mimetype": "text/x-python",
   "name": "python",
   "nbconvert_exporter": "python",
   "pygments_lexer": "ipython3",
   "version": "3.7.3"
  },
  "toc": {
   "base_numbering": 1,
   "nav_menu": {},
   "number_sections": false,
   "sideBar": true,
   "skip_h1_title": false,
   "title_cell": "Table of Contents",
   "title_sidebar": "Contents",
   "toc_cell": false,
   "toc_position": {},
   "toc_section_display": "block",
   "toc_window_display": true
  }
 },
 "nbformat": 4,
 "nbformat_minor": 2
}
