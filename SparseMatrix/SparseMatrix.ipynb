{
 "cells": [
  {
   "cell_type": "markdown",
   "metadata": {},
   "source": [
    "# Numba, temps, mémoire et matrices sparse \n",
    "\n",
    "      Joseph Salmon : joseph.salmon@umontpellier.fr\n"
   ]
  },
  {
   "cell_type": "markdown",
   "metadata": {},
   "source": [
    "# Numba: compilation \"Just in Time\" (jit)\n",
    "\n",
    "Numba convertit les fonctions Python en code machine optimisé au moment de l'exécution à l'aide de la bibliothèque de compilateur LLVM standard.\n",
    "Les algorithmes numériques compilés par Numba en Python peuvent alors approcher les vitesses de C ou de FORTRAN, la où les boucles classiques, comme en R et matlab, peuvent être un peu lente.\n",
    "\n",
    "https://numba.pydata.org/"
   ]
  },
  {
   "cell_type": "code",
   "execution_count": null,
   "metadata": {},
   "outputs": [],
   "source": [
    "from numba import jit\n",
    "import numpy as np\n",
    "import time\n",
    "from numba import jit\n",
    "import numpy as np\n",
    "import time"
   ]
  },
  {
   "cell_type": "markdown",
   "metadata": {},
   "source": [
    "# Temps et calcul: exemple d'utilisation de `%timeit`\n",
    "Remarque pour d'autres commandes *magiques* comme %timeit, %matplotlib, %autoreload: "
   ]
  },
  {
   "cell_type": "code",
   "execution_count": null,
   "metadata": {
    "collapsed": true
   },
   "outputs": [],
   "source": [
    "n  = 1000\n",
    "val = 5.4"
   ]
  },
  {
   "cell_type": "code",
   "execution_count": null,
   "metadata": {},
   "outputs": [],
   "source": [
    "%timeit a = np.empty(n); a.fill(val)"
   ]
  },
  {
   "cell_type": "code",
   "execution_count": null,
   "metadata": {},
   "outputs": [],
   "source": [
    "%timeit a=np.empty(n); a[:]=val"
   ]
  },
  {
   "cell_type": "code",
   "execution_count": null,
   "metadata": {},
   "outputs": [],
   "source": [
    "%timeit a = np.full((n,), val)"
   ]
  },
  {
   "cell_type": "code",
   "execution_count": null,
   "metadata": {},
   "outputs": [],
   "source": [
    "%timeit a=np.ones(n)*val"
   ]
  },
  {
   "cell_type": "code",
   "execution_count": null,
   "metadata": {},
   "outputs": [],
   "source": [
    "%timeit a=np.repeat(val,n)"
   ]
  },
  {
   "cell_type": "markdown",
   "metadata": {},
   "source": [
    "# Debogage : \n",
    "https://davidhamann.de/2017/04/22/debugging-jupyter-notebooks/\n",
    "utiliser  `import pdb; pdb.set_trace()` pour rentrer dans un code et requêter les informations des valeurs. Enfin pour continuer le code entre `c` et la touche `enter`.\n",
    "\n",
    "On peut consulter aussi:\n",
    "https://www.codementor.io/stevek/advanced-python-debugging-with-pdb-g56gvmpfa."
   ]
  },
  {
   "cell_type": "code",
   "execution_count": null,
   "metadata": {},
   "outputs": [],
   "source": [
    "def add_to_life_universe_everything(x):\n",
    "    answer = 42\n",
    "    import pdb; pdb.set_trace()\n",
    "    answer += x\n",
    "    \n",
    "    return answer\n",
    "\n",
    "add_to_life_universe_everything(12)"
   ]
  },
  {
   "cell_type": "markdown",
   "metadata": {},
   "source": [
    "Une autre manière de procéder est d'allumer le deboguer `pdb`. Une invite de commande se lance alors quand on a un soucis, et on peut alors reprendre la main voir ce qu'il se passe."
   ]
  },
  {
   "cell_type": "code",
   "execution_count": null,
   "metadata": {},
   "outputs": [],
   "source": [
    "%pdb"
   ]
  },
  {
   "cell_type": "code",
   "execution_count": null,
   "metadata": {},
   "outputs": [],
   "source": [
    "def blobl_func(x):\n",
    "    answer = 0\n",
    "    for i in range(x,-1,-1):\n",
    "        print(i)\n",
    "        answer += 1 / i\n",
    "    \n",
    "    return answer"
   ]
  },
  {
   "cell_type": "code",
   "execution_count": null,
   "metadata": {},
   "outputs": [],
   "source": [
    "blobl_func(4)"
   ]
  },
  {
   "cell_type": "markdown",
   "metadata": {},
   "source": [
    "# Notion de tests:\n",
    "https://semaphoreci.com/community/tutorials/testing-python-applications-with-pytest"
   ]
  },
  {
   "cell_type": "markdown",
   "metadata": {},
   "source": [
    "# Exemple 1: Méthode de Monte Carlo pour approcher $\\pi$"
   ]
  },
  {
   "cell_type": "code",
   "execution_count": null,
   "metadata": {
    "collapsed": true
   },
   "outputs": [],
   "source": [
    "@jit(nopython=True)\n",
    "def monte_carlo_pi(n_samples=1000):\n",
    "    acc = 0\n",
    "    for sample in range(n_samples):\n",
    "        vec = np.random.rand(2)\n",
    "        if np.linalg.norm(vec) < 1.:\n",
    "            acc += 1\n",
    "    return 4.0 * acc / n_samples "
   ]
  },
  {
   "cell_type": "code",
   "execution_count": null,
   "metadata": {},
   "outputs": [],
   "source": [
    "\n",
    "# DO NOT REPORT THIS... COMPILATION TIME IS INCLUDED IN THE EXECUTION TIME!\n",
    "start = time.time()\n",
    "monte_carlo_pi(n_samples=10000000)\n",
    "end = time.time()\n",
    "print(\"Elapsed (with compilation) = %s\" % (end - start))\n",
    "\n",
    "# NOW THE FUNCTION IS COMPILED, RE-TIME IT EXECUTING FROM CACHE\n",
    "start = time.time()\n",
    "monte_carlo_pi(n_samples=1000)\n",
    "end = time.time()\n",
    "print(\"Elapsed (after compilation) = %s\" % (end - start))"
   ]
  },
  {
   "cell_type": "code",
   "execution_count": null,
   "metadata": {
    "collapsed": true
   },
   "outputs": [],
   "source": []
  },
  {
   "cell_type": "code",
   "execution_count": null,
   "metadata": {},
   "outputs": [],
   "source": [
    "def go_slow(a):  # Function is compiled and runs in machine code\n",
    "    trace = 0\n",
    "    for i in range(a.shape[0]):\n",
    "        trace += np.tanh(a[i, i])\n",
    "    return trace\n",
    "all_n_samples = [1000, 5000, 10000]\n",
    "t0 = []\n",
    "t1 = []\n",
    "t2 = []\n",
    "\n",
    "for n_samples in all_n_samples:\n",
    "    print(n_samples)\n",
    "    x = np.arange(n_samples ** 2).reshape(n_samples, n_samples)\n",
    "\n",
    "    @jit(nopython=True)\n",
    "    def go_fast(a):  # Function is compiled and runs in machine code\n",
    "        trace = 0\n",
    "        for i in range(a.shape[0]):\n",
    "            trace += np.tanh(a[i, i])\n",
    "        return trace\n",
    "    # COMPILATION INCLUSE!\n",
    "    start = time.time()\n",
    "    go_fast(x)\n",
    "    end = time.time()\n",
    "    t0.append(end - start)\n",
    "    print(\"Elapsed (with compilation) = %s\" % (end - start))\n",
    "    # COMPILATION NON INCLUSE, EXECUTER DEPUIS LE CACHE \n",
    "    start = time.time()\n",
    "    go_fast(x)\n",
    "    end = time.time()\n",
    "    t1.append(end - start)\n",
    "    print(\"Elapsed (after compilation) = %s\" % (end - start))\n",
    "    # VANILLA PYTHON\n",
    "    start = time.time()\n",
    "    go_slow(x)\n",
    "    end = time.time()\n",
    "    t2.append(end - start)\n",
    "    print(\"Elapsed (vanilla) = %s\" % (end - start))\n",
    "\n",
    "    \n",
    "t0 = np.array(t0)\n",
    "t1 = np.array(t1)\n",
    "t2 = np.array(t2)\n",
    "\n",
    "\n",
    "print(all_n_samples)\n",
    "print(\"Améliorations en pourcentage par rapport au code vanilla\")\n",
    "print((t0 - t2)/t2 *100)\n",
    "print((t1 - t2)/t2*100)"
   ]
  },
  {
   "cell_type": "markdown",
   "metadata": {},
   "source": [
    "# Objectif: descente de gradient avec/sans numba."
   ]
  },
  {
   "cell_type": "code",
   "execution_count": null,
   "metadata": {
    "collapsed": true
   },
   "outputs": [],
   "source": [
    "n_samples = 1000\n",
    "n_features = 500\n",
    "n_iterations = 2000\n",
    "\n",
    "X = np.random.randn(n_samples, n_features)\n",
    "y = np.random.randn(n_samples)\n",
    "y[n_samples // 2:] = 0\n",
    "\n",
    "w = np.zeros(n_features)  # init = 0"
   ]
  },
  {
   "cell_type": "code",
   "execution_count": null,
   "metadata": {},
   "outputs": [],
   "source": [
    "@jit(nopython=True)\n",
    "# Function is compiled and runs in machine code\n",
    "def gradient(X, y, w, step_size=0.01,  max_iter=1000):\n",
    "    \"\"\"Gradient descent with constant step size.\"\"\"\n",
    "    for k in range(max_iter):\n",
    "        w -=  step_size * (X.T.dot(X.dot(w) - y))\n",
    "    return w\n",
    "\n",
    "# DO NOT REPORT THIS... COMPILATION TIME IS INCLUDED IN THE EXECUTION TIME!\n",
    "start = time.time()\n",
    "gradient(X, y, w)\n",
    "end = time.time()\n",
    "print(\"Elapsed (with compilation) = %s\" % (end - start))\n",
    "\n",
    "# NOW THE FUNCTION IS COMPILED, RE-TIME IT EXECUTING FROM CACHE\n",
    "start = time.time()\n",
    "gradient(X, y, w)\n",
    "end = time.time()\n",
    "print(\"Elapsed (after compilation) = %s\" % (end - start))"
   ]
  },
  {
   "cell_type": "markdown",
   "metadata": {
    "collapsed": true
   },
   "source": [
    "# Exemple: Régression logistique"
   ]
  },
  {
   "cell_type": "code",
   "execution_count": null,
   "metadata": {},
   "outputs": [],
   "source": [
    "y = np.random.randint(2, size=n_samples) *2 -1\n",
    "print(y)\n",
    "w = np.zeros(n_features)  # init = 0"
   ]
  },
  {
   "cell_type": "code",
   "execution_count": null,
   "metadata": {
    "collapsed": true
   },
   "outputs": [],
   "source": [
    "def logistic_regression_no_jit(y, X, w, iterations=1000):\n",
    "    for i in range(iterations):\n",
    "        w -= np.dot(((1.0 / (1.0 + np.exp(-y * np.dot(X, w))) - 1.0) * y), X)\n",
    "    return w"
   ]
  },
  {
   "cell_type": "code",
   "execution_count": null,
   "metadata": {},
   "outputs": [],
   "source": [
    "start = time.time()\n",
    "logistic_regression_no_jit(y, X, w, iterations=n_iterations )\n",
    "end = time.time()\n",
    "print(\"Elapsed (with compilation) = %s\" % (end - start))\n"
   ]
  },
  {
   "cell_type": "code",
   "execution_count": null,
   "metadata": {
    "collapsed": true
   },
   "outputs": [],
   "source": [
    "@jit(nopython=True)\n",
    "def logistic_regression(y, X, w, iterations=1000):\n",
    "    for i in range(iterations):\n",
    "        w -= np.dot(((1.0 / (1.0 + np.exp(-y * np.dot(X, w))) - 1.0) * y), X)\n",
    "    return w"
   ]
  },
  {
   "cell_type": "code",
   "execution_count": null,
   "metadata": {},
   "outputs": [],
   "source": [
    "# DO NOT REPORT THIS... COMPILATION TIME IS INCLUDED IN THE EXECUTION TIME!\n",
    "start = time.time()\n",
    "logistic_regression(y, X, w, iterations=n_iterations)\n",
    "end = time.time()\n",
    "print(\"Elapsed (with compilation) = %s\" % (end - start))\n",
    "\n",
    "# NOW THE FUNCTION IS COMPILED, RE-TIME IT EXECUTING FROM CACHE\n",
    "start = time.time()\n",
    "logistic_regression(y, X, w, iterations=n_iterations)\n",
    "end = time.time()\n",
    "print(\"Elapsed (after compilation) = %s\" % (end - start))"
   ]
  },
  {
   "cell_type": "code",
   "execution_count": null,
   "metadata": {
    "collapsed": true
   },
   "outputs": [],
   "source": [
    "%pdb off"
   ]
  },
  {
   "cell_type": "markdown",
   "metadata": {},
   "source": [
    "# Matrices Creuses et mémoire\n",
    "http://scipy-lectures.org/advanced/scipy_sparse/introduction.html#why-sparse-matrices\n",
    "\n",
    "https://rushter.com/blog/scipy-sparse-matrices/\n",
    "\n",
    "http://cmdlinetips.com/2018/03/sparse-matrices-in-python-with-scipy/\n",
    "\n",
    "Un cadre classique d'application des matrices creuses est le cadre des graphes: bien que le nombre de noeuds puissent être énorme, chaque noeud d'un graphe n'est en général pas relié à tous ces voisins. Si on représente un grapha par ca matrice d'adjacence:"
   ]
  },
  {
   "cell_type": "markdown",
   "metadata": {},
   "source": [
    "## Définition: *matrice d'adjacence*:\n",
    "Supposons que $G=(V,E)$ est un graphe, où $\\left|V\\right|=n$.\n",
    "Supposons que les sommets de $G$ sont numérotés arbitrairement $v_1,\\ldots,v_n$. \n",
    "La matrice d'adjacence $A$ de $G$ est la matrice $n \\times n$ de terme générale:\n",
    "\n",
    "$$a_{ij}=\\left\\{\\begin{array}{rl}\n",
    "\t1 & \\mbox{si } (v_i,v_j) \\in E \\\\\n",
    "        0 & \\mbox{sinon.}\n",
    "\\end{array}\\right.$$\n"
   ]
  },
  {
   "cell_type": "code",
   "execution_count": null,
   "metadata": {},
   "outputs": [],
   "source": [
    "import networkx as nx\n",
    "G = nx.Graph()\n",
    "G.add_edge('A', 'B', weight=4)\n",
    "G.add_edge('B', 'D', weight=2)\n",
    "G.add_edge('A', 'C', weight=3)\n",
    "G.add_edge('C', 'D', weight=4)\n",
    "G.add_edge('D', 'A', weight=2)\n",
    "\n",
    "nx.draw(G, with_labels=True)"
   ]
  },
  {
   "cell_type": "code",
   "execution_count": null,
   "metadata": {
    "collapsed": true
   },
   "outputs": [],
   "source": []
  },
  {
   "cell_type": "code",
   "execution_count": null,
   "metadata": {},
   "outputs": [],
   "source": [
    "A = nx.adjacency_matrix(G)\n",
    "print(A.todense())"
   ]
  },
  {
   "cell_type": "code",
   "execution_count": null,
   "metadata": {},
   "outputs": [],
   "source": [
    "nx.shortest_path(G, 'A', 'D', weight='weight')"
   ]
  },
  {
   "cell_type": "markdown",
   "metadata": {},
   "source": [
    "# Définition : *matrice d'incidence*\n",
    "Soit $G = (V,E)$ un graphe (non-orienté) à $n$ sommets, $V = [1,\\dots,n] $, et $p$ arrêtes, $E = [1,\\dot,p]$.\n",
    "Le graphe peut être représenté par sa matrice d'incidence arrête-sommet $D^\\top = \\in \\mathbb{R}^{p \\times n}$ défini par\n",
    "\\begin{equation}\n",
    "  (D^\\top)_{e,v} =\n",
    "  \\begin{cases}\n",
    "    + 1, & \\text{si } v = \\min(i,j) \\\\\n",
    "    -1, & \\text{si } v = \\max(i,j) \\\\\n",
    "    0, & \\text{sinon}\n",
    "  \\end{cases}\\enspace,\n",
    "\\end{equation}\n",
    "où $e = \\{i,j\\}$."
   ]
  },
  {
   "cell_type": "markdown",
   "metadata": {},
   "source": [
    "# Définition : *matrice d'incidence*\n",
    "\n",
    "The matrix $L=D D^\\top$ is the so-called graph Laplacian of $G$\n"
   ]
  },
  {
   "cell_type": "code",
   "execution_count": null,
   "metadata": {},
   "outputs": [],
   "source": [
    "D = nx.incidence_matrix(G, oriented=True).T\n",
    "print(D.todense())"
   ]
  },
  {
   "cell_type": "code",
   "execution_count": null,
   "metadata": {},
   "outputs": [],
   "source": [
    "import osmnx as ox\n",
    "%matplotlib notebook\n",
    "G = ox.graph_from_place('Montpellier, France', network_type='bike')"
   ]
  },
  {
   "cell_type": "code",
   "execution_count": null,
   "metadata": {},
   "outputs": [],
   "source": [
    "ox.plot_graph(G)"
   ]
  },
  {
   "cell_type": "code",
   "execution_count": null,
   "metadata": {},
   "outputs": [],
   "source": [
    "G.number_of_edges()"
   ]
  },
  {
   "cell_type": "code",
   "execution_count": null,
   "metadata": {},
   "outputs": [],
   "source": [
    "G.number_of_nodes()"
   ]
  },
  {
   "cell_type": "code",
   "execution_count": null,
   "metadata": {},
   "outputs": [],
   "source": [
    "D = nx.incidence_matrix(G, oriented=True).T"
   ]
  },
  {
   "cell_type": "code",
   "execution_count": null,
   "metadata": {},
   "outputs": [],
   "source": [
    "D"
   ]
  },
  {
   "cell_type": "code",
   "execution_count": null,
   "metadata": {},
   "outputs": [],
   "source": [
    "D.data.nbytes\n",
    "# data_size = D.nbytes/(1024**2)\n",
    "# print('Size of full matrix with zeros: '+ '%3.2f' %data_size + ' MB')"
   ]
  },
  {
   "cell_type": "markdown",
   "metadata": {},
   "source": [
    "# Sparsité du graphe:"
   ]
  },
  {
   "cell_type": "code",
   "execution_count": null,
   "metadata": {},
   "outputs": [],
   "source": [
    "print(\"Il a {0:.2} % d'arrêtes utlile pour représenter le graphe de la ville de Montpellier\".format(100 * G.number_of_edges() / G.number_of_nodes() ** 2))"
   ]
  },
  {
   "cell_type": "markdown",
   "metadata": {
    "collapsed": true
   },
   "source": [
    "## Remarques : divers type de matrices creuses:\n",
    "\n",
    "1. bsr_matrix: Block Sparse Row matrix\n",
    "1. coo_matrix: COOrdinate format matrix\n",
    "1. csc_matrix: Compressed Sparse Column matrix\n",
    "1. csr_matrix: Compressed Sparse Row matrix\n",
    "1. dia_matrix: Sparse matrix with DIAgonal storage\n",
    "1. dok_matrix: Dictionary Of Keys based sparse matrix.\n",
    "1. lil_matrix: Row-based linked list sparse matrix\n",
    "\n",
    "\n",
    "Selon la nature et la structure des données, `csc_matrix` est plus efficace pour le `slicing` par colonne, alors que \n",
    "csr_matrix est plus efficace pour le cas ligne (en statistiques et en machine learning c'est souvent `css_matrix` qui sont le plus utilisées."
   ]
  },
  {
   "cell_type": "code",
   "execution_count": null,
   "metadata": {},
   "outputs": [],
   "source": []
  },
  {
   "cell_type": "code",
   "execution_count": null,
   "metadata": {
    "collapsed": true
   },
   "outputs": [],
   "source": []
  }
 ],
 "metadata": {
  "hide_input": false,
  "kernelspec": {
   "display_name": "Python 3",
   "language": "python",
   "name": "python3"
  },
  "language_info": {
   "codemirror_mode": {
    "name": "ipython",
    "version": 3
   },
   "file_extension": ".py",
   "mimetype": "text/x-python",
   "name": "python",
   "nbconvert_exporter": "python",
   "pygments_lexer": "ipython3",
   "version": "3.7.3"
  },
  "toc": {
   "base_numbering": 1,
   "nav_menu": {},
   "number_sections": false,
   "sideBar": true,
   "skip_h1_title": false,
   "title_cell": "Table of Contents",
   "title_sidebar": "Contents",
   "toc_cell": false,
   "toc_position": {},
   "toc_section_display": true,
   "toc_window_display": true
  }
 },
 "nbformat": 4,
 "nbformat_minor": 2
}
